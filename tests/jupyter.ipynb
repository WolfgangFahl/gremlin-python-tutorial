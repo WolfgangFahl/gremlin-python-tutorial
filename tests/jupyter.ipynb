{
 "cells": [
  {
   "cell_type": "code",
   "execution_count": null,
   "metadata": {},
   "outputs": [],
   "source": [
    "from gremlin.remote import RemoteTraversal, Server\n",
    "server = Server()\n",
    "remote_traversal = RemoteTraversal(server=server, in_jupyter=True)\n",
    "g = remote_traversal.g()"
   ]
  },
  {
   "cell_type": "code",
   "execution_count": null,
   "metadata": {},
   "outputs": [],
   "source": [
    "from gremlin.examples import Examples, Volume\n",
    "examples = Examples(Volume.local())\n",
    "examples.load_by_name(g, 'tinkerpop-modern')"
   ]
  },
  {
   "cell_type": "code",
   "execution_count": null,
   "metadata": {},
   "outputs": [],
   "source": [
    "from gremlin.draw import GremlinDraw\n",
    "GremlinDraw.show(g)"
   ]
  },
  {
   "cell_type": "code",
   "execution_count": null,
   "metadata": {},
   "outputs": [],
   "source": [
    "GremlinDraw.show_graph_traversal(g, g.V().hasLabel('person').out('knows').out('created'))"
   ]
  },
  {
   "cell_type": "code",
   "execution_count": null,
   "metadata": {},
   "outputs": [],
   "source": [
    "GremlinDraw.show_graph_traversal(g, g.V().hasLabel('person').out('knows').out('created').element_map())"
   ]
  },
  {
   "cell_type": "code",
   "execution_count": null,
   "metadata": {},
   "outputs": [],
   "source": [
    "GremlinDraw.show_graph_traversal(g, g.E())"
   ]
  },
  {
   "cell_type": "code",
   "execution_count": null,
   "metadata": {},
   "outputs": [],
   "source": [
    "GremlinDraw.show_graph_traversal(g, g.E().path())"
   ]
  },
  {
   "cell_type": "code",
   "execution_count": null,
   "metadata": {},
   "outputs": [],
   "source": [
    "GremlinDraw.show_graph_traversal(g, g.V().hasLabel('person').out('knows').out('created').path())"
   ]
  },
  {
   "cell_type": "code",
   "execution_count": null,
   "metadata": {},
   "outputs": [],
   "source": [
    "x = g.V().bothE()\n",
    "marko = g.addV(\"person\").next()\n",
    "vadas = g.addV(\"person\").next()\n",
    "GremlinDraw.show_graph_traversal(g, g.V(vadas).addE('knows').to(marko).property(\"weight\", 0.5).to_list())"
   ]
  },
  {
   "cell_type": "code",
   "execution_count": null,
   "metadata": {},
   "outputs": [],
   "source": [
    "GremlinDraw.show(g)"
   ]
  },
  {
   "cell_type": "code",
   "execution_count": null,
   "metadata": {},
   "outputs": [],
   "source": [
    "GremlinDraw.show_graph_traversal(g, g.E().hasLabel(\"knows\").toList())"
   ]
  },
  {
   "cell_type": "code",
   "execution_count": null,
   "metadata": {},
   "outputs": [],
   "source": [
    "GremlinDraw.show_graph_traversal(g, g.V().has(\"lang\").toList())"
   ]
  },
  {
   "cell_type": "code",
   "execution_count": null,
   "metadata": {},
   "outputs": [],
   "source": [
    "from gremlin_python.process.graph_traversal import __\n",
    "GremlinDraw.show_graph_traversal(g, g.V().or_(__.has(\"lang\"), __.not_(__.has(\"age\"))).toList())"
   ]
  },
  {
   "cell_type": "code",
   "execution_count": null,
   "metadata": {},
   "outputs": [],
   "source": [
    "GremlinDraw.show_graph_traversal(g,  g.V().hasLabel(\"person\").limit(3).toList())"
   ]
  },
  {
   "cell_type": "code",
   "execution_count": null,
   "metadata": {},
   "outputs": [],
   "source": [
    "GremlinDraw.show_graph_traversal(g, g.V().has(\"name\", \"peter\").outE().toList())"
   ]
  },
  {
   "cell_type": "code",
   "execution_count": null,
   "metadata": {},
   "outputs": [],
   "source": [
    "GremlinDraw.show_graph_traversal(g,  g.V(4).bothE().toList())"
   ]
  },
  {
   "cell_type": "code",
   "execution_count": null,
   "metadata": {},
   "outputs": [],
   "source": [
    "GremlinDraw.show_graph_traversal(g, g.E(\"11\").bothV().toList())"
   ]
  },
  {
   "cell_type": "code",
   "execution_count": null,
   "metadata": {},
   "outputs": [],
   "source": [
    "GremlinDraw.show_graph_traversal(g, g.V().hasLabel('person').outE().otherV().toList())"
   ]
  },
  {
   "cell_type": "code",
   "execution_count": null,
   "metadata": {},
   "outputs": [],
   "source": [
    "GremlinDraw.show_graph_traversal(g, g.V(3).repeat(__.both()).times(2).path().toList())"
   ]
  }
 ],
 "metadata": {
  "kernelspec": {
   "display_name": "dbis-hiwi",
   "language": "python",
   "name": "python3"
  },
  "language_info": {
   "codemirror_mode": {
    "name": "ipython",
    "version": 3
   },
   "file_extension": ".py",
   "mimetype": "text/x-python",
   "name": "python",
   "nbconvert_exporter": "python",
   "pygments_lexer": "ipython3",
   "version": "3.11.3"
  },
  "orig_nbformat": 4
 },
 "nbformat": 4,
 "nbformat_minor": 2
}
